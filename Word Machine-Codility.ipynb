{
 "cells": [
  {
   "cell_type": "markdown",
   "metadata": {},
   "source": [
    "Word Machine|                    "
   ]
  },
  {
   "cell_type": "code",
   "execution_count": 1,
   "metadata": {
    "collapsed": true
   },
   "outputs": [],
   "source": [
    "def solution(S):\n",
    "    # write your code in Python 3.6\n",
    "    l = []\n",
    "    for op in S.split(' '):\n",
    "        try: \n",
    "            int(op)\n",
    "            if int(op)<=2**20-1 and int(op)>=0:\n",
    "                l.append(int(op))\n",
    "            else:\n",
    "                return -1\n",
    "        except: \n",
    "            if op == 'POP' and l != []:\n",
    "                l.pop()\n",
    "            elif op == 'DUP' and l != []:\n",
    "                l.append(l[-1])\n",
    "            elif op == '+' and len(l) >= 2 and l[-1]+l[-2]<=2**20-1:\n",
    "                temp1 = l.pop()\n",
    "                temp2 = l.pop()\n",
    "                l.append(temp1+temp2)\n",
    "            elif op == '-' and len(l) >= 2 and l[-1]>=l[-2]:\n",
    "                temp1 = l.pop()\n",
    "                temp2 = l.pop()\n",
    "                l.append(temp1-temp2)\n",
    "            else:\n",
    "                return -1\n",
    "    if len(l)>0:\n",
    "        return l.pop()\n",
    "    else:\n",
    "        return -1\n",
    "        "
   ]
  }
 ],
 "metadata": {
  "kernelspec": {
   "display_name": "Python 3",
   "language": "python",
   "name": "python3"
  },
  "language_info": {
   "codemirror_mode": {
    "name": "ipython",
    "version": 3
   },
   "file_extension": ".py",
   "mimetype": "text/x-python",
   "name": "python",
   "nbconvert_exporter": "python",
   "pygments_lexer": "ipython3",
   "version": "3.6.3"
  }
 },
 "nbformat": 4,
 "nbformat_minor": 2
}
