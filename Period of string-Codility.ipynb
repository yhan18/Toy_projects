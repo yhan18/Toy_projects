{
 "cells": [
  {
   "cell_type": "code",
   "execution_count": null,
   "metadata": {
    "collapsed": true
   },
   "outputs": [],
   "source": [
    "def solution(n):\n",
    "    d = [0] * 30\n",
    "    l = 0\n",
    "    while (n > 0):\n",
    "        d[l] = n % 2\n",
    "        n //= 2\n",
    "        l += 1\n",
    "    for p in range(1, 1 + l//2):\n",
    "        ok = True\n",
    "        for i in range(l - p):\n",
    "            if d[l - i] != d[l - i - p]:\n",
    "                ok = False\n",
    "                break\n",
    "        if ok:\n",
    "            return p\n",
    "    return -1"
   ]
  }
 ],
 "metadata": {
  "kernelspec": {
   "display_name": "Python 3",
   "language": "python",
   "name": "python3"
  },
  "language_info": {
   "codemirror_mode": {
    "name": "ipython",
    "version": 3
   },
   "file_extension": ".py",
   "mimetype": "text/x-python",
   "name": "python",
   "nbconvert_exporter": "python",
   "pygments_lexer": "ipython3",
   "version": "3.6.3"
  }
 },
 "nbformat": 4,
 "nbformat_minor": 2
}
